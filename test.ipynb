{
 "cells": [
  {
   "cell_type": "code",
   "execution_count": 1,
   "metadata": {},
   "outputs": [],
   "source": [
    "import numpy as np\n",
    "import numpy.typing as npt\n",
    "from numba import jit, njit, prange\n",
    "import pickle\n",
    "from dataclasses import dataclass, asdict, field\n",
    "import argparse\n",
    "import hashlib\n",
    "import json\n",
    "from os import listdir\n",
    "from os.path import isfile, join\n",
    "import pandas as pd\n",
    "from pathlib import Path\n",
    "from typing import Any\n",
    "import time\n",
    "import sys\n",
    "import copy\n",
    "import concurrent.futures as cf\n",
    "\n",
    "from src.dataclass import (\n",
    "    Input, Lattice, Parameter, Train, Save,\n",
    "    Processed_Input, Topology, Conjugate, Result\n",
    ")\n",
    "from src.manage_data import save_result, save_log, load_result\n",
    "from src.initial_state import get_initial_state\n",
    "from src.process_input import (get_processed_input, get_T_and_H, get_J)\n",
    "from src.metropolis import execute_metropolis_update\n",
    "from src.function import (time_correlation, column_average_2d, get_spin_glass)\n",
    "from src.process_output import get_result"
   ]
  },
  {
   "cell_type": "code",
   "execution_count": 2,
   "metadata": {},
   "outputs": [
    {
     "name": "stdout",
     "output_type": "stream",
     "text": [
      "[[1 2]\n",
      " [4 5]]\n"
     ]
    }
   ],
   "source": [
    "test = np.array([[1, 2, 3],[4, 5, 6]])\n",
    "list = np.array([0,1])\n",
    "print(test[:,list])"
   ]
  },
  {
   "cell_type": "code",
   "execution_count": 8,
   "metadata": {},
   "outputs": [],
   "source": [
    "@njit(parallel=True)\n",
    "def sigma_i_sigma_j(array, measurement, length):\n",
    "    avg = np.zeros(length)\n",
    "    corr = np.zeros((length, length))\n",
    "\n",
    "    for i in prange(length):\n",
    "        for j in prange(measurement):\n",
    "            avg[i] = avg[i] + array[j, i]\n",
    "\n",
    "    avg = avg / measurement\n",
    "\n",
    "    for i in prange(length):\n",
    "        for j in prange(length):\n",
    "            for k in prange(measurement):\n",
    "                corr[i][j] = corr[i][j] + \\\n",
    "                    np.conjugate(array[k, i]) * array[k, j]\n",
    "\n",
    "    corr = corr / measurement\n",
    "\n",
    "    for i in prange(length):\n",
    "        for j in prange(length):\n",
    "            corr[i][j] = corr[i][j] - avg[i] * avg[j]\n",
    "\n",
    "    return np.real(corr)\n",
    "\n",
    "def space_correlation(\n",
    "    array: npt.NDArray,\n",
    ") -> npt.NDArray:\n",
    "    \"\"\"\n",
    "    array: [measurement, size**dim]\n",
    "    return: [size**dim, size**dim]\n",
    "    \"\"\"\n",
    "    measurement = np.size(array[:, 0])\n",
    "    length = np.size(array[0])\n",
    "\n",
    "    average = np.einsum(\"ij->j\", array, optimize=True) / measurement\n",
    "    corr = np.tensordot(np.conjugate(array), array, (0, 0)) / measurement\n",
    "\n",
    "    return np.real(corr - np.tensordot(np.conjugate(average), average, axes=0))"
   ]
  },
  {
   "cell_type": "code",
   "execution_count": 12,
   "metadata": {},
   "outputs": [],
   "source": [
    "measurement, length = 10000, 1024\n",
    "test = np.random.rand(measurement, length)"
   ]
  },
  {
   "cell_type": "code",
   "execution_count": 13,
   "metadata": {},
   "outputs": [],
   "source": [
    "# %timeit sigma_i_sigma_j(test, measurement, length)"
   ]
  },
  {
   "cell_type": "code",
   "execution_count": null,
   "metadata": {},
   "outputs": [
    {
     "name": "stdout",
     "output_type": "stream",
     "text": [
      "10.3 ms ± 8.22 µs per loop (mean ± std. dev. of 7 runs, 100 loops each)\n"
     ]
    }
   ],
   "source": [
    "# %timeit space_correlation(test)"
   ]
  },
  {
   "cell_type": "code",
   "execution_count": 6,
   "metadata": {},
   "outputs": [
    {
     "name": "stdout",
     "output_type": "stream",
     "text": [
      "Input(lattice=Lattice(state=3, size=64, dimension=2, ghost=0, initial='uniform'), parameter=Parameter(T=2.3192000000000004, H=0.0, Tc=1.5, Hc=0.0, Jm=1.0, Jv=1.0, mode='normal', variable='T', multiply=0.00010000000000000002, base=2.0, exponent=13), train=Train(iteration=1024, sweep=131072, measurement=16384, interval=8, ensemble=8, max_workers=8, threshold=0.05000000000000001, recent=100), save=Save(environment='server', save=True))\n"
     ]
    }
   ],
   "source": [
    "parser = argparse.ArgumentParser()\n",
    "args = parser.parse_args(\"\")\n",
    "\n",
    "\"\"\"\n",
    "Memory\n",
    "Max(measurement * size**dim, size**(2*dim)) * max_workers\n",
    "\n",
    "Performance\n",
    "measurement * size**dim * ensembles / max_workers\n",
    "\"\"\"\n",
    "\n",
    "\"\"\"\n",
    "Lattice Condition\n",
    "\"\"\"\n",
    "args.state = 3\n",
    "args.size = 2**6\n",
    "args.dimension = 2\n",
    "args.ghost = 0\n",
    "args.initial = \"uniform\" # \"uniform\", \"random\"\n",
    "\n",
    "\"\"\"\n",
    "Parameter Condition\n",
    "\"\"\"\n",
    "args.T, args.H = 1.0, 0.0\n",
    "# q=2: 2.2692, q=3: 1.4925\n",
    "# args.Tc = 1/((1-1/args.state)*np.log(1+np.sqrt(args.state)))\n",
    "args.Tc = 1.5\n",
    "args.Hc = 0.0\n",
    "args.Jm = 1.0\n",
    "args.Jv = 1.0\n",
    "\n",
    "args.mode = \"normal\"  # 'normal', 'critical' and 'manual'\n",
    "args.variable = \"T\"  # 'T', 'H'\n",
    "args.multiply = 0.1**4\n",
    "args.base = 2.0\n",
    "args.exponent = 13\n",
    "\n",
    "\"\"\"\n",
    "Train Condition\n",
    "\"\"\"\n",
    "args.iteration = 2**10\n",
    "args.measurement = 2**14\n",
    "args.interval = 2**3\n",
    "args.sweep = args.measurement * args.interval\n",
    "args.ensemble = 2**3\n",
    "args.max_workers = 2**3\n",
    "args.threshold = 5 * 0.1**2\n",
    "args.recent = 10**2\n",
    "\n",
    "\"\"\"\n",
    "Save Condition\n",
    "\"\"\"\n",
    "args.environment = \"server\" # \"server\" or \"local\"\n",
    "args.location = \"result\"\n",
    "args.save = True  # True or False\n",
    "\n",
    "lattice = Lattice(\n",
    "args.state, args.size, args.dimension, \n",
    "args.ghost, args.initial)\n",
    "parameter = Parameter(\n",
    "args.Tc, args.Hc, args.Jm, args.Jv, args.mode, \n",
    "args.variable, args.multiply, args.base, args.exponent)\n",
    "train = Train(\n",
    "args.iteration, args.sweep, args.measurement, args.interval,\n",
    "args.ensemble, args.max_workers, args.threshold, args.recent)\n",
    "save = Save(args.environment, args.location, args.save)\n",
    "\n",
    "input = Input(lattice, parameter, train, save)\n",
    "input.parameter.T, input.parameter.H = args.T, args.H\n",
    "\n",
    "processed_input = get_processed_input(input)\n",
    "input.parameter.T, input.parameter.H = get_T_and_H(input)\n",
    "J = get_J(input, processed_input)\n",
    "print(input)"
   ]
  },
  {
   "cell_type": "code",
   "execution_count": null,
   "metadata": {},
   "outputs": [],
   "source": [
    "def execute_metropolis_update(\n",
    "    input: Input, processed_input: Processed_Input, J: npt.NDArray[np.float64], system_state: npt.NDArray[np.complex128],\n",
    ") -> npt.NDArray[np.complex128]:\n",
    "    lattice, parameter, topology, conjugate = (\n",
    "        input.lattice,\n",
    "        input.parameter,\n",
    "        processed_input.topology,\n",
    "        processed_input.conjugate\n",
    "    )\n",
    "\n",
    "    size, dimension, state, T, H, interaction_point, complex_state, conjugate_state, complex_ghost = (\n",
    "        lattice.size,\n",
    "        lattice.dimension,\n",
    "        lattice.state,\n",
    "        parameter.T,\n",
    "        parameter.H,\n",
    "        topology.interaction_point,\n",
    "        conjugate.complex_state,\n",
    "        conjugate.conjugate_state,\n",
    "        conjugate.complex_ghost,\n",
    "    )\n",
    "\n",
    "    rng = np.random.default_rng()\n",
    "    flip_coord = np.arange(size**dimension)\n",
    "    rng.shuffle(flip_coord)\n",
    "    prob = rng.random(size=size**dimension)\n",
    "    idx = rng.integers(state-1, size=size**dimension)\n",
    "    \n",
    "    return update_system_state(flip_coord, system_state, prob, idx, state, H, T, complex_ghost, complex_state, conjugate_state, J, interaction_point)\n",
    "\n",
    "\n",
    "@njit\n",
    "def update_system_state(flip_coord, system_state, prob, idx, state, H, T, complex_ghost, complex_state, conjugate_state, J, interaction_point):\n",
    "\n",
    "    for i, x in enumerate(flip_coord):\n",
    "        index_list = np.arange(state)\n",
    "        angle = np.int64(np.round((np.angle(system_state[x])/2/np.pi*state)%state))\n",
    "        index_list = np.delete(index_list, angle)\n",
    "        # rng = np.random.default_rng()\n",
    "        proposal = index_list[idx[i]]\n",
    "\n",
    "        current_energy, flip_energy = 0, 0\n",
    "\n",
    "        interaction = H * complex_ghost\n",
    "        for point in interaction_point[x]:\n",
    "            interaction += J[x][point] * system_state[point]\n",
    "\n",
    "        current_energy = np.real(- conjugate_state[angle] * interaction)\n",
    "        flip_energy = np.real(- conjugate_state[proposal] * interaction)\n",
    "        \n",
    "        if flip_energy <= current_energy:\n",
    "            system_state[x] = complex_state[proposal]\n",
    "        \n",
    "        else:\n",
    "            if(prob[i] <= np.exp(- (flip_energy - current_energy) / T)):\n",
    "                system_state[x] = complex_state[proposal]\n",
    "\n",
    "    return system_state"
   ]
  },
  {
   "cell_type": "code",
   "execution_count": null,
   "metadata": {},
   "outputs": [],
   "source": [
    "print(input)\n",
    "update = get_initial_state(input)\n",
    "iter = 1000\n",
    "result = np.empty((iter+1, input.lattice.size**input.lattice.dimension), dtype=np.complex128)\n",
    "result[0] = update\n",
    "for i in range(iter):\n",
    "    update = execute_metropolis_update(input, processed_input, J, update)\n",
    "    result[i+1] = update\n",
    "print(np.einsum(\"ij->i\", result)/input.lattice.size**input.lattice.dimension)\n",
    "print(np.einsum(\"ij->\", result)/input.lattice.size**input.lattice.dimension/(iter+1))\n",
    "%timeit execute_metropolis_update(input, processed_input, J, update)"
   ]
  },
  {
   "cell_type": "code",
   "execution_count": null,
   "metadata": {},
   "outputs": [],
   "source": [
    "print(processed_input.conjugate)"
   ]
  }
 ],
 "metadata": {
  "kernelspec": {
   "display_name": "research",
   "language": "python",
   "name": "python3"
  },
  "language_info": {
   "codemirror_mode": {
    "name": "ipython",
    "version": 3
   },
   "file_extension": ".py",
   "mimetype": "text/x-python",
   "name": "python",
   "nbconvert_exporter": "python",
   "pygments_lexer": "ipython3",
   "version": "3.10.9"
  },
  "orig_nbformat": 4
 },
 "nbformat": 4,
 "nbformat_minor": 2
}
